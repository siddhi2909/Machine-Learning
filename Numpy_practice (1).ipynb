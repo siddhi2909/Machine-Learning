{
 "cells": [
  {
   "cell_type": "code",
   "execution_count": 7,
   "id": "4b5573dd-a4ff-4397-8d01-b83b49ec7f69",
   "metadata": {},
   "outputs": [
    {
     "name": "stdout",
     "output_type": "stream",
     "text": [
      "Requirement already satisfied: numpy in c:\\users\\siddhi\\anaconda3\\lib\\site-packages (1.26.4)\n",
      "Note: you may need to restart the kernel to use updated packages.\n"
     ]
    }
   ],
   "source": [
    "pip install numpy"
   ]
  },
  {
   "cell_type": "code",
   "execution_count": 2,
   "id": "3e01f99c-4868-4253-a8e4-f81bdbaabfe0",
   "metadata": {},
   "outputs": [
    {
     "name": "stdout",
     "output_type": "stream",
     "text": [
      "Hello\n"
     ]
    }
   ],
   "source": [
    "print(\"Hello\")"
   ]
  },
  {
   "cell_type": "code",
   "execution_count": 11,
   "id": "ad92df88-d200-4cbe-be1d-c73810517f6e",
   "metadata": {},
   "outputs": [],
   "source": [
    "#Import numpy library\n",
    "import numpy as np"
   ]
  },
  {
   "cell_type": "code",
   "execution_count": 10,
   "id": "4b0d8523-4d0f-4e45-bd01-7d5f54cfe197",
   "metadata": {},
   "outputs": [
    {
     "name": "stdout",
     "output_type": "stream",
     "text": [
      "[1 2 3 4]\n"
     ]
    }
   ],
   "source": [
    "import numpy\n",
    "arr=numpy.array([1,2,3,4])\n",
    "print(arr)"
   ]
  },
  {
   "cell_type": "code",
   "execution_count": 12,
   "id": "a9f174f7-c96d-4abb-ae8e-b3f141639b1a",
   "metadata": {},
   "outputs": [
    {
     "name": "stdout",
     "output_type": "stream",
     "text": [
      "1.26.4\n"
     ]
    }
   ],
   "source": [
    "#for checking numpy version\n",
    "import numpy as np\n",
    "print(np.__version__)"
   ]
  },
  {
   "cell_type": "code",
   "execution_count": 13,
   "id": "c0b6e65a-3c6d-4601-a437-b58d5340930c",
   "metadata": {},
   "outputs": [
    {
     "name": "stdout",
     "output_type": "stream",
     "text": [
      "[42]\n"
     ]
    }
   ],
   "source": [
    "#print 1D array\n",
    "arr=np.array([42])\n",
    "print(arr)"
   ]
  },
  {
   "cell_type": "code",
   "execution_count": 14,
   "id": "397c91ed-0e9b-4d14-8f21-c75f983b3f25",
   "metadata": {},
   "outputs": [
    {
     "name": "stdout",
     "output_type": "stream",
     "text": [
      "[[1 2 3]\n",
      " [5 6 7]]\n"
     ]
    }
   ],
   "source": [
    "#print 2D array\n",
    "arr=np.array([[1,2,3],[5,6,7]])\n",
    "print(arr)"
   ]
  },
  {
   "cell_type": "code",
   "execution_count": 17,
   "id": "301b0bbe-8bbd-4513-8cbd-4df7918c1d96",
   "metadata": {},
   "outputs": [
    {
     "name": "stdout",
     "output_type": "stream",
     "text": [
      "[[1 2 3 4]\n",
      " [5 6 7 8]\n",
      " [2 5 7 9]]\n"
     ]
    }
   ],
   "source": [
    "#pritn 3D array\n",
    "arr1=np.array([[1,2,3,4],[5,6,7,8],[2,5,7,9]])\n",
    "print(arr1)"
   ]
  },
  {
   "cell_type": "code",
   "execution_count": 18,
   "id": "e4e27e52-76d8-4a59-b6dd-882077c842bb",
   "metadata": {},
   "outputs": [
    {
     "name": "stdout",
     "output_type": "stream",
     "text": [
      "2\n"
     ]
    }
   ],
   "source": [
    "#checking dimensions\n",
    "print(arr1.ndim)"
   ]
  },
  {
   "cell_type": "code",
   "execution_count": 20,
   "id": "2b353794-2a78-4972-9d0a-c81e2e873db8",
   "metadata": {},
   "outputs": [
    {
     "name": "stdout",
     "output_type": "stream",
     "text": [
      "1\n"
     ]
    }
   ],
   "source": [
    "#Accessing array elements\n",
    "import numpy as np\n",
    "arr=np.array([1,2,3,4])\n",
    "print(arr[0])"
   ]
  },
  {
   "cell_type": "code",
   "execution_count": 21,
   "id": "84e24a92-3a7b-4ea1-9817-1009de025599",
   "metadata": {},
   "outputs": [
    {
     "name": "stdout",
     "output_type": "stream",
     "text": [
      "2nd element on 1st row:  2\n"
     ]
    }
   ],
   "source": [
    "arr = np.array([[1,2,3,4,5], [6,7,8,9,10]]) \n",
    "print('2nd element on 1st row: ', arr[0, 1])"
   ]
  },
  {
   "cell_type": "code",
   "execution_count": 22,
   "id": "87c24567-29df-42ec-beeb-8e88f867b508",
   "metadata": {},
   "outputs": [
    {
     "name": "stdout",
     "output_type": "stream",
     "text": [
      "[2 3 4 5]\n"
     ]
    }
   ],
   "source": [
    "#array slicing\n",
    "arr = np.array([1, 2, 3, 4, 5, 6, 7]) \n",
    "print(arr[1:5])"
   ]
  },
  {
   "cell_type": "code",
   "execution_count": 23,
   "id": "fc9abf33-f34d-498e-b739-d8e11909f2bd",
   "metadata": {},
   "outputs": [
    {
     "name": "stdout",
     "output_type": "stream",
     "text": [
      "[5 6]\n"
     ]
    }
   ],
   "source": [
    "#nagative slicing\n",
    "arr = np.array([1, 2, 3, 4, 5, 6, 7]) \n",
    "print(arr[-3:-1])"
   ]
  },
  {
   "cell_type": "code",
   "execution_count": 24,
   "id": "8ce30f13-425f-4037-ae50-c63f7acb3407",
   "metadata": {},
   "outputs": [
    {
     "name": "stdout",
     "output_type": "stream",
     "text": [
      "[2 4 6]\n"
     ]
    }
   ],
   "source": [
    "#steping\n",
    "arr = np.array([1, 2, 3, 4, 5, 6, 7]) \n",
    "print(arr[1:6:2])"
   ]
  },
  {
   "cell_type": "code",
   "execution_count": 28,
   "id": "c04635a7-f2d8-4b89-9284-7ff0a87e3936",
   "metadata": {},
   "outputs": [
    {
     "name": "stdout",
     "output_type": "stream",
     "text": [
      "float64\n"
     ]
    }
   ],
   "source": [
    "#Checking datatype\n",
    "arr = np.array([1, 2, 3, 4,4.5,2.1,6.7,8.9]) \n",
    "print(arr.dtype) "
   ]
  },
  {
   "cell_type": "code",
   "execution_count": 26,
   "id": "73c175da-2d63-4650-b5de-be5421185e1b",
   "metadata": {},
   "outputs": [
    {
     "name": "stdout",
     "output_type": "stream",
     "text": [
      "[[ 1  2  3]\n",
      " [ 4  5  6]\n",
      " [ 7  8  9]\n",
      " [10 11 12]]\n"
     ]
    }
   ],
   "source": [
    "#reshaping array\n",
    "arr = np.array([1, 2, 3, 4, 5, 6, 7, 8, 9, 10, 11, 12]) \n",
    "newarr = arr.reshape(4, 3) \n",
    "print(newarr) "
   ]
  },
  {
   "cell_type": "code",
   "execution_count": 29,
   "id": "bf11aa78-e956-498f-88e9-cc2a1d10c21d",
   "metadata": {},
   "outputs": [
    {
     "name": "stdout",
     "output_type": "stream",
     "text": [
      "(2, 4)\n",
      "8\n"
     ]
    }
   ],
   "source": [
    "#checking shape & size of array\n",
    "arr = np.array([[1, 2, 3, 4], [5, 6, 7, 8]]) \n",
    "print(arr.shape) \n",
    "print(arr.size)"
   ]
  },
  {
   "cell_type": "code",
   "execution_count": 30,
   "id": "d8f0ac4a-066b-4030-963f-380e7c9343d3",
   "metadata": {},
   "outputs": [
    {
     "name": "stdout",
     "output_type": "stream",
     "text": [
      "1\n",
      "2\n",
      "3\n"
     ]
    }
   ],
   "source": [
    "#numpy array iterating\n",
    "arr = np.array([1, 2, 3]) \n",
    "for x in arr: \n",
    "   print(x) "
   ]
  },
  {
   "cell_type": "code",
   "execution_count": 27,
   "id": "18c37ae7-0f4b-4820-8fef-8292eecbabd3",
   "metadata": {},
   "outputs": [
    {
     "name": "stdout",
     "output_type": "stream",
     "text": [
      "[1 2 3 4 5 6]\n"
     ]
    }
   ],
   "source": [
    "#Concatenate/Joining array\n",
    "arr1 = np.array([1, 2, 3]) \n",
    "arr2 = np.array([4, 5, 6]) \n",
    "arr = np.concatenate((arr1, arr2)) \n",
    "print(arr) "
   ]
  },
  {
   "cell_type": "code",
   "execution_count": 40,
   "id": "0f82f4eb-e18e-4c47-aa89-3fe697fad693",
   "metadata": {},
   "outputs": [
    {
     "name": "stdout",
     "output_type": "stream",
     "text": [
      "[array([1, 2]), array([3, 4]), array([5, 6])]\n"
     ]
    }
   ],
   "source": [
    "#spliting array\n",
    "arr = np.array([1, 2, 3, 4, 5, 6]) \n",
    "newarr = np.array_split(arr, 3) \n",
    "print(newarr) "
   ]
  },
  {
   "cell_type": "code",
   "execution_count": 41,
   "id": "6e0a1871-6b62-4120-b16f-e36a7b5ebed1",
   "metadata": {},
   "outputs": [
    {
     "name": "stdout",
     "output_type": "stream",
     "text": [
      "(array([3, 5, 6], dtype=int64),)\n"
     ]
    }
   ],
   "source": [
    "#searching array\n",
    "arr = np.array([1, 2, 3, 4, 5, 4, 4]) \n",
    "x = np.where(arr == 4) \n",
    "print(x) "
   ]
  },
  {
   "cell_type": "code",
   "execution_count": 42,
   "id": "80cf7adc-e7d8-4c4c-816f-5f617242d4fa",
   "metadata": {},
   "outputs": [
    {
     "name": "stdout",
     "output_type": "stream",
     "text": [
      "[0 1 2 3]\n"
     ]
    }
   ],
   "source": [
    "#sorting array\n",
    "arr = np.array([3, 2, 0, 1]) \n",
    "print(np.sort(arr))"
   ]
  },
  {
   "cell_type": "code",
   "execution_count": 43,
   "id": "73a74f1b-562f-4a59-a397-f9a519b93e9f",
   "metadata": {},
   "outputs": [
    {
     "name": "stdout",
     "output_type": "stream",
     "text": [
      "[3 2 1 0]\n"
     ]
    }
   ],
   "source": [
    "#for descending\n",
    "arr = np.array([3, 2, 0, 1]) \n",
    "print(np.sort(arr)[::-1])"
   ]
  },
  {
   "cell_type": "code",
   "execution_count": 44,
   "id": "5c533e87-cb90-4d72-8aa7-c879218e8f76",
   "metadata": {},
   "outputs": [
    {
     "name": "stdout",
     "output_type": "stream",
     "text": [
      "[41 43]\n"
     ]
    }
   ],
   "source": [
    "#filter array\n",
    "arr = np.array([41, 42, 43, 44]) \n",
    "x = [True, False, True, False] \n",
    "newarr = arr[x] \n",
    "print(newarr) "
   ]
  },
  {
   "cell_type": "code",
   "execution_count": 47,
   "id": "f2bc6ed4-cff1-4ea8-aac7-d9b0479b5569",
   "metadata": {},
   "outputs": [
    {
     "name": "stdout",
     "output_type": "stream",
     "text": [
      "[False, False, True, True]\n",
      "[43 44]\n"
     ]
    }
   ],
   "source": [
    "arr = np.array([41, 42, 43, 44]) \n",
    "# Create an empty list \n",
    "filter_arr = [] \n",
    "# go through each element in arr \n",
    "for element in arr: \n",
    "# if the element is higher than 42, set the value to True, otherwise False: \n",
    " if element > 42: \n",
    "  filter_arr.append(True) \n",
    " else: \n",
    "  filter_arr.append(False) \n",
    "newarr = arr[filter_arr] \n",
    "print(filter_arr) \n",
    "print(newarr) "
   ]
  },
  {
   "cell_type": "code",
   "execution_count": 38,
   "id": "e2a05ee9-9a1f-426f-b0df-97a6d2318646",
   "metadata": {},
   "outputs": [
    {
     "name": "stdout",
     "output_type": "stream",
     "text": [
      "float64\n",
      "[1 2 3 4 5]\n"
     ]
    }
   ],
   "source": [
    "#Conversion of datatype\n",
    "arr=np.array([1,2,3,4.2,5])\n",
    "print(arr.dtype)\n",
    "print(arr.astype(int))"
   ]
  },
  {
   "cell_type": "code",
   "execution_count": 49,
   "id": "549b83c8-525a-4b0d-a871-19a387777923",
   "metadata": {},
   "outputs": [
    {
     "name": "stdout",
     "output_type": "stream",
     "text": [
      "[20 30 40 50 60]\n",
      "[20 30 90 40]\n",
      "[20 40]\n"
     ]
    }
   ],
   "source": [
    "#Adding & removing elements\n",
    "arr=np.array([20,30,40])\n",
    "print(np.append(arr,[50,60]))\n",
    "print(np.insert(arr,2,90)) \n",
    "print(np.delete(arr,[1]))"
   ]
  },
  {
   "cell_type": "code",
   "execution_count": 50,
   "id": "75c49e45-bad5-41bf-bacd-a60e48db4bde",
   "metadata": {},
   "outputs": [
    {
     "name": "stdout",
     "output_type": "stream",
     "text": [
      "140\n",
      "20\n",
      "50\n",
      "[ 20  50  90 140]\n"
     ]
    }
   ],
   "source": [
    "#Aggrigating functions\n",
    "a=np.array([20,30,40,50])\n",
    "print(np.sum(a))\n",
    "#Minimum\n",
    "print(np.min(a))\n",
    "#Maximum\n",
    "print(np.max(a))\n",
    "#Cumulative sum\n",
    "print(np.cumsum(a))"
   ]
  },
  {
   "cell_type": "code",
   "execution_count": 51,
   "id": "5ef09a9e-efb7-4b96-8c8e-8e5c137effc4",
   "metadata": {},
   "outputs": [
    {
     "name": "stdout",
     "output_type": "stream",
     "text": [
      "36.666666666666664\n",
      "35.0\n",
      "20\n"
     ]
    }
   ],
   "source": [
    "#Statistical functions\n",
    "import statistics as stats\n",
    "food_price=[20,30,40,50,60,20]\n",
    "a=np.array(food_price)\n",
    "\n",
    "#mean\n",
    "print(np.mean(a))\n",
    "#median\n",
    "print(np.median(a))\n",
    "#mode\n",
    "print(stats.mode(a))"
   ]
  },
  {
   "cell_type": "code",
   "execution_count": null,
   "id": "adadc71c-9fc5-414c-a1a0-1eea51ea7586",
   "metadata": {},
   "outputs": [],
   "source": []
  }
 ],
 "metadata": {
  "kernelspec": {
   "display_name": "Python [conda env:base] *",
   "language": "python",
   "name": "conda-base-py"
  },
  "language_info": {
   "codemirror_mode": {
    "name": "ipython",
    "version": 3
   },
   "file_extension": ".py",
   "mimetype": "text/x-python",
   "name": "python",
   "nbconvert_exporter": "python",
   "pygments_lexer": "ipython3",
   "version": "3.12.7"
  }
 },
 "nbformat": 4,
 "nbformat_minor": 5
}
