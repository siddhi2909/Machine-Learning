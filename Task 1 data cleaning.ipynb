{
 "cells": [
  {
   "cell_type": "code",
   "execution_count": 3,
   "id": "38cb996d-b9d9-46fe-9aa3-91d0d11d0a25",
   "metadata": {},
   "outputs": [],
   "source": [
    "#Import libraries\n",
    "import numpy as np\n",
    "import pandas as pd\n",
    "import matplotlib.pyplot as plt\n",
    "import seaborn as sns"
   ]
  },
  {
   "cell_type": "code",
   "execution_count": 22,
   "id": "5972e05f-ccdc-40a5-87ff-e14e327a639f",
   "metadata": {},
   "outputs": [
    {
     "name": "stdout",
     "output_type": "stream",
     "text": [
      "        Name      Age  Gender               Email     Join_Date   Salary   Department\n",
      "0      Alice      NaN     NaN   user0@example.com    2021-05-21      NaN        Admin\n",
      "1        Bob       40       M   user1@example.com           NaN    50000  Engineering\n",
      "2    Charlie  unknown    Male   user2@example.com    2020/01/01    50000           HR\n",
      "3      David      NaN     NaN   user3@example.com    2021-05-21    70000        Admin\n",
      "4        Eva       35   Other   user4@example.com  July 4, 2020    70000  Engineering\n",
      "5      Frank  unknown   Other   user5@example.com           NaN    70000        Admin\n",
      "6      Grace  unknown  Female   user6@example.com  July 4, 2020    80000  Engineering\n",
      "7     Hannah      NaN   Other   user7@example.com    2021-05-21      NaN           HR\n",
      "8        Ivy       30  Female   user8@example.com           NaN    50000  Engineering\n",
      "9       Jack       35    Male   user9@example.com    2020/01/01    80000  Engineering\n",
      "10     Alice      NaN       M  user10@example.com    2021-05-21    70000  Engineering\n",
      "11       Bob       35       M  user11@example.com  July 4, 2020    50000        Sales\n",
      "12   Charlie       35       M  user12@example.com    22-06-2022    80000        Sales\n",
      "13     David  unknown   Other  user13@example.com           NaN      NaN        Sales\n",
      "14       Eva       40    Male  user14@example.com  July 4, 2020    80000           HR\n",
      "15     Frank       35   Other  user15@example.com           NaN      NaN        Admin\n",
      "16     Grace      NaN   Other  user16@example.com    2021-05-21    70000          NaN\n",
      "17    Hannah  unknown    Male  user17@example.com           NaN      NaN  Engineering\n",
      "18       Ivy       30    Male  user18@example.com    2021-05-21    50000  Engineering\n",
      "19      Jack       40    Male  user19@example.com           NaN    70000           HR\n",
      "20     Alice      NaN    Male  user20@example.com    2021-05-21    50000  Engineering\n",
      "21       Bob      NaN       M  user21@example.com    22-06-2022  unknown        Sales\n",
      "22   Charlie       30       F  user22@example.com           NaN    60000          NaN\n",
      "23     David       40       F  user23@example.com           NaN      NaN    Marketing\n",
      "24       Eva  unknown    Male  user24@example.com           NaN    60000  Engineering\n",
      "25     Frank       25       F  user25@example.com    22-06-2022    60000        Sales\n",
      "26     Grace       40       F  user26@example.com  July 4, 2020      NaN    Marketing\n",
      "27    Hannah       30    Male  user27@example.com    2021-05-21    70000          NaN\n",
      "28       Ivy      NaN       F  user28@example.com    2020/01/01  unknown    Marketing\n",
      "29      Jack  unknown   Other  user29@example.com    2021-05-21    50000        Sales\n",
      "30     Alice       40  Female  user30@example.com    2021-05-21    80000        Admin\n",
      "31       Bob       25  Female  user31@example.com  July 4, 2020    50000        Admin\n",
      "32   Charlie       25    Male  user32@example.com    2021-05-21    80000    Marketing\n",
      "33     David       35       M  user33@example.com    22-06-2022    50000           HR\n",
      "34       Eva       35    Male  user34@example.com    22-06-2022      NaN    Marketing\n",
      "35     Frank      NaN       M  user35@example.com           NaN  unknown  Engineering\n",
      "36     Grace       30  Female  user36@example.com           NaN    80000  Engineering\n",
      "37    Hannah       40    Male  user37@example.com    2020/01/01      NaN        Admin\n",
      "38       Ivy       40     NaN  user38@example.com    2021-05-21    70000           HR\n",
      "39      Jack      NaN   Other  user39@example.com    2021-05-21    50000        Sales\n",
      "40     Alice      NaN       F  user40@example.com  July 4, 2020    50000  Engineering\n",
      "41       Bob      NaN       M  user41@example.com           NaN    80000        Admin\n",
      "42   Charlie      NaN     NaN  user42@example.com    22-06-2022    70000          NaN\n",
      "43     David      NaN       F  user43@example.com    2020/01/01    70000        Admin\n",
      "44       Eva       35       F  user44@example.com           NaN      NaN  Engineering\n",
      "45     Frank       40    Male  user45@example.com    22-06-2022      NaN  Engineering\n",
      "46     Grace      NaN       F  user46@example.com           NaN      NaN        Admin\n",
      "47    Hannah       40   Other  user47@example.com           NaN      NaN        Sales\n",
      "48       Ivy       25     NaN  user48@example.com  July 4, 2020      NaN    Marketing\n",
      "49      Jack       35       F  user49@example.com  July 4, 2020      NaN  Engineering\n",
      "50     Alice  unknown    Male  user50@example.com    2021-05-21      NaN        Admin\n",
      "51       Bob       35   Other  user51@example.com           NaN  unknown        Admin\n",
      "52   Charlie      NaN  Female  user52@example.com    2020/01/01    70000           HR\n",
      "53     David  unknown     NaN  user53@example.com           NaN      NaN    Marketing\n",
      "54       Eva       25       F  user54@example.com    22-06-2022    70000          NaN\n",
      "55     Frank      NaN    Male  user55@example.com           NaN    70000        Sales\n",
      "56     Grace       30  Female  user56@example.com           NaN    60000          NaN\n",
      "57    Hannah       40  Female  user57@example.com  July 4, 2020  unknown    Marketing\n",
      "58       Ivy       25       M  user58@example.com    2021-05-21      NaN    Marketing\n",
      "59      Jack       40   Other  user59@example.com    2021-05-21    50000    Marketing\n",
      "60     Alice      NaN       F  user60@example.com           NaN    80000          NaN\n",
      "61       Bob       30    Male  user61@example.com  July 4, 2020      NaN    Marketing\n",
      "62   Charlie       30       M  user62@example.com           NaN    50000        Admin\n",
      "63     David       25   Other  user63@example.com    2020/01/01  unknown          NaN\n",
      "64       Eva       30       M  user64@example.com  July 4, 2020    80000    Marketing\n",
      "65     Frank  unknown     NaN  user65@example.com           NaN  unknown        Admin\n",
      "66     Grace       30   Other  user66@example.com           NaN    70000           HR\n",
      "67    Hannah       40   Other  user67@example.com  July 4, 2020    80000    Marketing\n",
      "68       Ivy       40       F  user68@example.com           NaN    70000          NaN\n",
      "69      Jack      NaN   Other  user69@example.com  July 4, 2020    50000  Engineering\n",
      "70     Alice       40       M  user70@example.com    22-06-2022    50000    Marketing\n",
      "71       Bob      NaN   Other  user71@example.com  July 4, 2020    80000  Engineering\n",
      "72   Charlie       40       F  user72@example.com  July 4, 2020    80000        Admin\n",
      "73     David  unknown       F  user73@example.com           NaN      NaN           HR\n",
      "74       Eva      NaN     NaN  user74@example.com           NaN  unknown        Sales\n",
      "75     Frank       35       M  user75@example.com    2021-05-21      NaN           HR\n",
      "76     Grace      NaN  Female  user76@example.com    2021-05-21  unknown    Marketing\n",
      "77    Hannah       25  Female  user77@example.com    22-06-2022      NaN  Engineering\n",
      "78       Ivy       40   Other  user78@example.com    2021-05-21    70000  Engineering\n",
      "79      Jack       30     NaN  user79@example.com  July 4, 2020    80000          NaN\n",
      "80     Alice       40    Male  user80@example.com           NaN    50000  Engineering\n",
      "81       Bob       30   Other  user81@example.com    2021-05-21  unknown          NaN\n",
      "82   Charlie      NaN     NaN  user82@example.com    2021-05-21  unknown        Admin\n",
      "83     David      NaN       M  user83@example.com    22-06-2022    50000        Sales\n",
      "84       Eva      NaN       M  user84@example.com           NaN      NaN    Marketing\n",
      "85     Frank       30       M  user85@example.com    22-06-2022  unknown          NaN\n",
      "86     Grace       40       M  user86@example.com  July 4, 2020      NaN        Sales\n",
      "87    Hannah      NaN       M  user87@example.com           NaN    70000  Engineering\n",
      "88       Ivy  unknown     NaN  user88@example.com    22-06-2022    80000  Engineering\n",
      "89      Jack      NaN     NaN  user89@example.com    2021-05-21    50000        Sales\n",
      "90     Alice       30       F                 NaN           NaN    80000  Engineering\n",
      "91       Bob       30  Female                 NaN           NaN      NaN        Admin\n",
      "92   Charlie       40       M                 NaN    2021-05-21  unknown        Admin\n",
      "93     David       30    Male                 NaN    22-06-2022  unknown        Sales\n",
      "94       Eva       30     NaN                 NaN    2021-05-21      NaN          NaN\n",
      "95     Frank      NaN    Male                 NaN           NaN    50000          NaN\n",
      "96     Grace       40    Male                 NaN           NaN    70000        Sales\n",
      "97    Hannah      NaN    Male                 NaN    2020/01/01    60000          NaN\n",
      "98       Ivy      NaN       F                 NaN    2020/01/01    50000          NaN\n",
      "99      Jack      NaN     NaN                 NaN  July 4, 2020    60000        Admin\n",
      "100    Alice      NaN     NaN   user0@example.com    2021-05-21      NaN        Admin\n",
      "101      Bob       40       M   user1@example.com           NaN    50000  Engineering\n",
      "102  Charlie  unknown    Male   user2@example.com    2020/01/01    50000           HR\n",
      "103    David      NaN     NaN   user3@example.com    2021-05-21    70000        Admin\n",
      "104      Eva       35   Other   user4@example.com  July 4, 2020    70000  Engineering\n"
     ]
    }
   ],
   "source": [
    "ds=pd.read_csv('raw_messy_dataset.csv')\n",
    "print(ds.to_string())"
   ]
  },
  {
   "cell_type": "code",
   "execution_count": 7,
   "id": "4a5c81d6-20a6-48ea-bdbc-2703051e83bb",
   "metadata": {},
   "outputs": [
    {
     "data": {
      "text/html": [
       "<div>\n",
       "<style scoped>\n",
       "    .dataframe tbody tr th:only-of-type {\n",
       "        vertical-align: middle;\n",
       "    }\n",
       "\n",
       "    .dataframe tbody tr th {\n",
       "        vertical-align: top;\n",
       "    }\n",
       "\n",
       "    .dataframe thead th {\n",
       "        text-align: right;\n",
       "    }\n",
       "</style>\n",
       "<table border=\"1\" class=\"dataframe\">\n",
       "  <thead>\n",
       "    <tr style=\"text-align: right;\">\n",
       "      <th></th>\n",
       "      <th>Name</th>\n",
       "      <th>Age</th>\n",
       "      <th>Gender</th>\n",
       "      <th>Email</th>\n",
       "      <th>Join_Date</th>\n",
       "      <th>Salary</th>\n",
       "      <th>Department</th>\n",
       "    </tr>\n",
       "  </thead>\n",
       "  <tbody>\n",
       "    <tr>\n",
       "      <th>0</th>\n",
       "      <td>Alice</td>\n",
       "      <td>NaN</td>\n",
       "      <td>NaN</td>\n",
       "      <td>user0@example.com</td>\n",
       "      <td>2021-05-21</td>\n",
       "      <td>NaN</td>\n",
       "      <td>Admin</td>\n",
       "    </tr>\n",
       "    <tr>\n",
       "      <th>1</th>\n",
       "      <td>Bob</td>\n",
       "      <td>40</td>\n",
       "      <td>M</td>\n",
       "      <td>user1@example.com</td>\n",
       "      <td>NaN</td>\n",
       "      <td>50000</td>\n",
       "      <td>Engineering</td>\n",
       "    </tr>\n",
       "    <tr>\n",
       "      <th>2</th>\n",
       "      <td>Charlie</td>\n",
       "      <td>unknown</td>\n",
       "      <td>Male</td>\n",
       "      <td>user2@example.com</td>\n",
       "      <td>2020/01/01</td>\n",
       "      <td>50000</td>\n",
       "      <td>HR</td>\n",
       "    </tr>\n",
       "    <tr>\n",
       "      <th>3</th>\n",
       "      <td>David</td>\n",
       "      <td>NaN</td>\n",
       "      <td>NaN</td>\n",
       "      <td>user3@example.com</td>\n",
       "      <td>2021-05-21</td>\n",
       "      <td>70000</td>\n",
       "      <td>Admin</td>\n",
       "    </tr>\n",
       "    <tr>\n",
       "      <th>4</th>\n",
       "      <td>Eva</td>\n",
       "      <td>35</td>\n",
       "      <td>Other</td>\n",
       "      <td>user4@example.com</td>\n",
       "      <td>July 4, 2020</td>\n",
       "      <td>70000</td>\n",
       "      <td>Engineering</td>\n",
       "    </tr>\n",
       "  </tbody>\n",
       "</table>\n",
       "</div>"
      ],
      "text/plain": [
       "      Name      Age Gender              Email     Join_Date Salary  \\\n",
       "0    Alice      NaN    NaN  user0@example.com    2021-05-21    NaN   \n",
       "1      Bob       40      M  user1@example.com           NaN  50000   \n",
       "2  Charlie  unknown   Male  user2@example.com    2020/01/01  50000   \n",
       "3    David      NaN    NaN  user3@example.com    2021-05-21  70000   \n",
       "4      Eva       35  Other  user4@example.com  July 4, 2020  70000   \n",
       "\n",
       "    Department  \n",
       "0        Admin  \n",
       "1  Engineering  \n",
       "2           HR  \n",
       "3        Admin  \n",
       "4  Engineering  "
      ]
     },
     "execution_count": 7,
     "metadata": {},
     "output_type": "execute_result"
    }
   ],
   "source": [
    "ds.head()"
   ]
  },
  {
   "cell_type": "code",
   "execution_count": 8,
   "id": "48a6cbc0-bc6f-46e0-a31b-87287748d05b",
   "metadata": {},
   "outputs": [
    {
     "data": {
      "text/html": [
       "<div>\n",
       "<style scoped>\n",
       "    .dataframe tbody tr th:only-of-type {\n",
       "        vertical-align: middle;\n",
       "    }\n",
       "\n",
       "    .dataframe tbody tr th {\n",
       "        vertical-align: top;\n",
       "    }\n",
       "\n",
       "    .dataframe thead th {\n",
       "        text-align: right;\n",
       "    }\n",
       "</style>\n",
       "<table border=\"1\" class=\"dataframe\">\n",
       "  <thead>\n",
       "    <tr style=\"text-align: right;\">\n",
       "      <th></th>\n",
       "      <th>Name</th>\n",
       "      <th>Age</th>\n",
       "      <th>Gender</th>\n",
       "      <th>Email</th>\n",
       "      <th>Join_Date</th>\n",
       "      <th>Salary</th>\n",
       "      <th>Department</th>\n",
       "    </tr>\n",
       "  </thead>\n",
       "  <tbody>\n",
       "    <tr>\n",
       "      <th>100</th>\n",
       "      <td>Alice</td>\n",
       "      <td>NaN</td>\n",
       "      <td>NaN</td>\n",
       "      <td>user0@example.com</td>\n",
       "      <td>2021-05-21</td>\n",
       "      <td>NaN</td>\n",
       "      <td>Admin</td>\n",
       "    </tr>\n",
       "    <tr>\n",
       "      <th>101</th>\n",
       "      <td>Bob</td>\n",
       "      <td>40</td>\n",
       "      <td>M</td>\n",
       "      <td>user1@example.com</td>\n",
       "      <td>NaN</td>\n",
       "      <td>50000</td>\n",
       "      <td>Engineering</td>\n",
       "    </tr>\n",
       "    <tr>\n",
       "      <th>102</th>\n",
       "      <td>Charlie</td>\n",
       "      <td>unknown</td>\n",
       "      <td>Male</td>\n",
       "      <td>user2@example.com</td>\n",
       "      <td>2020/01/01</td>\n",
       "      <td>50000</td>\n",
       "      <td>HR</td>\n",
       "    </tr>\n",
       "    <tr>\n",
       "      <th>103</th>\n",
       "      <td>David</td>\n",
       "      <td>NaN</td>\n",
       "      <td>NaN</td>\n",
       "      <td>user3@example.com</td>\n",
       "      <td>2021-05-21</td>\n",
       "      <td>70000</td>\n",
       "      <td>Admin</td>\n",
       "    </tr>\n",
       "    <tr>\n",
       "      <th>104</th>\n",
       "      <td>Eva</td>\n",
       "      <td>35</td>\n",
       "      <td>Other</td>\n",
       "      <td>user4@example.com</td>\n",
       "      <td>July 4, 2020</td>\n",
       "      <td>70000</td>\n",
       "      <td>Engineering</td>\n",
       "    </tr>\n",
       "  </tbody>\n",
       "</table>\n",
       "</div>"
      ],
      "text/plain": [
       "        Name      Age Gender              Email     Join_Date Salary  \\\n",
       "100    Alice      NaN    NaN  user0@example.com    2021-05-21    NaN   \n",
       "101      Bob       40      M  user1@example.com           NaN  50000   \n",
       "102  Charlie  unknown   Male  user2@example.com    2020/01/01  50000   \n",
       "103    David      NaN    NaN  user3@example.com    2021-05-21  70000   \n",
       "104      Eva       35  Other  user4@example.com  July 4, 2020  70000   \n",
       "\n",
       "      Department  \n",
       "100        Admin  \n",
       "101  Engineering  \n",
       "102           HR  \n",
       "103        Admin  \n",
       "104  Engineering  "
      ]
     },
     "execution_count": 8,
     "metadata": {},
     "output_type": "execute_result"
    }
   ],
   "source": [
    "ds.tail()"
   ]
  },
  {
   "cell_type": "code",
   "execution_count": 9,
   "id": "fd5b06ee-9063-4e67-bec8-437c2982ee79",
   "metadata": {},
   "outputs": [
    {
     "data": {
      "text/html": [
       "<div>\n",
       "<style scoped>\n",
       "    .dataframe tbody tr th:only-of-type {\n",
       "        vertical-align: middle;\n",
       "    }\n",
       "\n",
       "    .dataframe tbody tr th {\n",
       "        vertical-align: top;\n",
       "    }\n",
       "\n",
       "    .dataframe thead th {\n",
       "        text-align: right;\n",
       "    }\n",
       "</style>\n",
       "<table border=\"1\" class=\"dataframe\">\n",
       "  <thead>\n",
       "    <tr style=\"text-align: right;\">\n",
       "      <th></th>\n",
       "      <th>Name</th>\n",
       "      <th>Age</th>\n",
       "      <th>Gender</th>\n",
       "      <th>Email</th>\n",
       "      <th>Join_Date</th>\n",
       "      <th>Salary</th>\n",
       "      <th>Department</th>\n",
       "    </tr>\n",
       "  </thead>\n",
       "  <tbody>\n",
       "    <tr>\n",
       "      <th>count</th>\n",
       "      <td>105</td>\n",
       "      <td>72</td>\n",
       "      <td>89</td>\n",
       "      <td>95</td>\n",
       "      <td>70</td>\n",
       "      <td>78</td>\n",
       "      <td>89</td>\n",
       "    </tr>\n",
       "    <tr>\n",
       "      <th>unique</th>\n",
       "      <td>10</td>\n",
       "      <td>5</td>\n",
       "      <td>5</td>\n",
       "      <td>90</td>\n",
       "      <td>4</td>\n",
       "      <td>5</td>\n",
       "      <td>5</td>\n",
       "    </tr>\n",
       "    <tr>\n",
       "      <th>top</th>\n",
       "      <td>Alice</td>\n",
       "      <td>40</td>\n",
       "      <td>Male</td>\n",
       "      <td>user0@example.com</td>\n",
       "      <td>2021-05-21</td>\n",
       "      <td>50000</td>\n",
       "      <td>Engineering</td>\n",
       "    </tr>\n",
       "    <tr>\n",
       "      <th>freq</th>\n",
       "      <td>11</td>\n",
       "      <td>22</td>\n",
       "      <td>22</td>\n",
       "      <td>2</td>\n",
       "      <td>26</td>\n",
       "      <td>22</td>\n",
       "      <td>26</td>\n",
       "    </tr>\n",
       "  </tbody>\n",
       "</table>\n",
       "</div>"
      ],
      "text/plain": [
       "         Name Age Gender              Email   Join_Date Salary   Department\n",
       "count     105  72     89                 95          70     78           89\n",
       "unique     10   5      5                 90           4      5            5\n",
       "top     Alice  40   Male  user0@example.com  2021-05-21  50000  Engineering\n",
       "freq       11  22     22                  2          26     22           26"
      ]
     },
     "execution_count": 9,
     "metadata": {},
     "output_type": "execute_result"
    }
   ],
   "source": [
    "ds.describe()"
   ]
  },
  {
   "cell_type": "code",
   "execution_count": 13,
   "id": "bf1e5fa8-68ea-4b70-96d3-474439f43c0e",
   "metadata": {},
   "outputs": [
    {
     "name": "stdout",
     "output_type": "stream",
     "text": [
      "<class 'pandas.core.frame.DataFrame'>\n",
      "Index: 100 entries, 0 to 99\n",
      "Data columns (total 7 columns):\n",
      " #   Column      Non-Null Count  Dtype  \n",
      "---  ------      --------------  -----  \n",
      " 0   Name        100 non-null    object \n",
      " 1   Age         57 non-null     float64\n",
      " 2   Gender      86 non-null     object \n",
      " 3   Email       90 non-null     object \n",
      " 4   Join_Date   66 non-null     object \n",
      " 5   Salary      74 non-null     object \n",
      " 6   Department  84 non-null     object \n",
      "dtypes: float64(1), object(6)\n",
      "memory usage: 6.2+ KB\n"
     ]
    }
   ],
   "source": [
    "ds.info()"
   ]
  },
  {
   "cell_type": "code",
   "execution_count": 8,
   "id": "03edd3ad-9879-4638-9d69-48ae75a74e26",
   "metadata": {},
   "outputs": [
    {
     "data": {
      "text/plain": [
       "0"
      ]
     },
     "execution_count": 8,
     "metadata": {},
     "output_type": "execute_result"
    }
   ],
   "source": [
    "#Searching for duplicates\n",
    "ds.duplicated().sum()"
   ]
  },
  {
   "cell_type": "code",
   "execution_count": 7,
   "id": "5e3b1034-529b-4397-80cd-bb53fcd70cf0",
   "metadata": {},
   "outputs": [],
   "source": [
    "#Remove duplicates\n",
    "ds.drop_duplicates(inplace=True)"
   ]
  },
  {
   "cell_type": "code",
   "execution_count": 28,
   "id": "2f9afdaf-1a39-4f75-85ff-37ca0a004c54",
   "metadata": {},
   "outputs": [],
   "source": [
    "#Handling Age\n",
    "ds[\"Age\"]=pd.to_numeric(ds[\"Age\"],errors='coerce')"
   ]
  },
  {
   "cell_type": "code",
   "execution_count": 29,
   "id": "4f071a94-ea01-42da-932b-f855e472af0b",
   "metadata": {},
   "outputs": [
    {
     "name": "stderr",
     "output_type": "stream",
     "text": [
      "C:\\Users\\Siddhi\\AppData\\Local\\Temp\\ipykernel_15948\\1147191675.py:3: FutureWarning: A value is trying to be set on a copy of a DataFrame or Series through chained assignment using an inplace method.\n",
      "The behavior will change in pandas 3.0. This inplace method will never work because the intermediate object on which we are setting values always behaves as a copy.\n",
      "\n",
      "For example, when doing 'df[col].method(value, inplace=True)', try using 'df.method({col: value}, inplace=True)' or df[col] = df[col].method(value) instead, to perform the operation inplace on the original object.\n",
      "\n",
      "\n",
      "  ds[\"Age\"].fillna(x,inplace=True)\n"
     ]
    }
   ],
   "source": [
    "#handling age column\n",
    "x=ds[\"Age\"].median()\n",
    "ds[\"Age\"].fillna(x,inplace=True)"
   ]
  },
  {
   "cell_type": "code",
   "execution_count": 17,
   "id": "9b0909c6-e158-4c4f-bf61-0be3fe9a1860",
   "metadata": {},
   "outputs": [
    {
     "data": {
      "text/plain": [
       "array([None], dtype=object)"
      ]
     },
     "execution_count": 17,
     "metadata": {},
     "output_type": "execute_result"
    }
   ],
   "source": [
    "\n",
    "ds[\"Gender\"].unique()"
   ]
  },
  {
   "cell_type": "code",
   "execution_count": 16,
   "id": "2ba7b3a4-a597-4a18-be0b-65f85dcfd42c",
   "metadata": {},
   "outputs": [
    {
     "name": "stderr",
     "output_type": "stream",
     "text": [
      "C:\\Users\\Siddhi\\AppData\\Local\\Temp\\ipykernel_15948\\1541505481.py:2: FutureWarning: Series.replace without 'value' and with non-dict-like 'to_replace' is deprecated and will raise in a future version. Explicitly specify the new values instead.\n",
      "  ds[\"Gender\"]=ds[\"Gender\"].replace([{\n",
      "C:\\Users\\Siddhi\\AppData\\Local\\Temp\\ipykernel_15948\\1541505481.py:2: FutureWarning: A value is trying to be set on a copy of a DataFrame or Series through chained assignment using an inplace method.\n",
      "The behavior will change in pandas 3.0. This inplace method will never work because the intermediate object on which we are setting values always behaves as a copy.\n",
      "\n",
      "For example, when doing 'df[col].method(value, inplace=True)', try using 'df.method({col: value}, inplace=True)' or df[col] = df[col].method(value) instead, to perform the operation inplace on the original object.\n",
      "\n",
      "\n",
      "  ds[\"Gender\"]=ds[\"Gender\"].replace([{\n"
     ]
    }
   ],
   "source": [
    "#Handling age column\n",
    "ds[\"Gender\"]=ds[\"Gender\"].replace([{\n",
    "    \"M\":\"Male\",\n",
    "    \"F\":\"Female\",\n",
    "    \" \":\"null\"\n",
    "   }]\n",
    "   ,inplace=True)   \n",
    "    "
   ]
  },
  {
   "cell_type": "code",
   "execution_count": 19,
   "id": "bebcc50f-1a71-4c12-962c-2e8bf86c61c2",
   "metadata": {},
   "outputs": [
    {
     "data": {
      "text/plain": [
       "Index(['Name', 'Age', 'Gender', 'Email', 'Join_Date', 'Salary', 'Department'], dtype='object')"
      ]
     },
     "execution_count": 19,
     "metadata": {},
     "output_type": "execute_result"
    }
   ],
   "source": [
    "#To see columns name\n",
    "ds.columns"
   ]
  },
  {
   "cell_type": "code",
   "execution_count": 24,
   "id": "74a44a6c-3e3b-40cc-a35e-832100b02e67",
   "metadata": {},
   "outputs": [
    {
     "name": "stderr",
     "output_type": "stream",
     "text": [
      "C:\\Users\\Siddhi\\AppData\\Local\\Temp\\ipykernel_15948\\2389698836.py:2: FutureWarning: A value is trying to be set on a copy of a DataFrame or Series through chained assignment using an inplace method.\n",
      "The behavior will change in pandas 3.0. This inplace method will never work because the intermediate object on which we are setting values always behaves as a copy.\n",
      "\n",
      "For example, when doing 'df[col].method(value, inplace=True)', try using 'df.method({col: value}, inplace=True)' or df[col] = df[col].method(value) instead, to perform the operation inplace on the original object.\n",
      "\n",
      "\n",
      "  ds[\"Email\"].fillna(\"-\",inplace=True)\n"
     ]
    }
   ],
   "source": [
    "#Handling missing values in email column\n",
    "ds[\"Email\"].fillna(\"-\",inplace=True)"
   ]
  },
  {
   "cell_type": "code",
   "execution_count": 25,
   "id": "a1555980-18e6-400a-9cb5-438b69c1c1c3",
   "metadata": {},
   "outputs": [
    {
     "name": "stdout",
     "output_type": "stream",
     "text": [
      "        Name      Age  Gender               Email     Join_Date   Salary   Department\n",
      "0      Alice      NaN     NaN   user0@example.com    2021-05-21      NaN        Admin\n",
      "1        Bob       40       M   user1@example.com           NaN    50000  Engineering\n",
      "2    Charlie  unknown    Male   user2@example.com    2020/01/01    50000           HR\n",
      "3      David      NaN     NaN   user3@example.com    2021-05-21    70000        Admin\n",
      "4        Eva       35   Other   user4@example.com  July 4, 2020    70000  Engineering\n",
      "5      Frank  unknown   Other   user5@example.com           NaN    70000        Admin\n",
      "6      Grace  unknown  Female   user6@example.com  July 4, 2020    80000  Engineering\n",
      "7     Hannah      NaN   Other   user7@example.com    2021-05-21      NaN           HR\n",
      "8        Ivy       30  Female   user8@example.com           NaN    50000  Engineering\n",
      "9       Jack       35    Male   user9@example.com    2020/01/01    80000  Engineering\n",
      "10     Alice      NaN       M  user10@example.com    2021-05-21    70000  Engineering\n",
      "11       Bob       35       M  user11@example.com  July 4, 2020    50000        Sales\n",
      "12   Charlie       35       M  user12@example.com    22-06-2022    80000        Sales\n",
      "13     David  unknown   Other  user13@example.com           NaN      NaN        Sales\n",
      "14       Eva       40    Male  user14@example.com  July 4, 2020    80000           HR\n",
      "15     Frank       35   Other  user15@example.com           NaN      NaN        Admin\n",
      "16     Grace      NaN   Other  user16@example.com    2021-05-21    70000          NaN\n",
      "17    Hannah  unknown    Male  user17@example.com           NaN      NaN  Engineering\n",
      "18       Ivy       30    Male  user18@example.com    2021-05-21    50000  Engineering\n",
      "19      Jack       40    Male  user19@example.com           NaN    70000           HR\n",
      "20     Alice      NaN    Male  user20@example.com    2021-05-21    50000  Engineering\n",
      "21       Bob      NaN       M  user21@example.com    22-06-2022  unknown        Sales\n",
      "22   Charlie       30       F  user22@example.com           NaN    60000          NaN\n",
      "23     David       40       F  user23@example.com           NaN      NaN    Marketing\n",
      "24       Eva  unknown    Male  user24@example.com           NaN    60000  Engineering\n",
      "25     Frank       25       F  user25@example.com    22-06-2022    60000        Sales\n",
      "26     Grace       40       F  user26@example.com  July 4, 2020      NaN    Marketing\n",
      "27    Hannah       30    Male  user27@example.com    2021-05-21    70000          NaN\n",
      "28       Ivy      NaN       F  user28@example.com    2020/01/01  unknown    Marketing\n",
      "29      Jack  unknown   Other  user29@example.com    2021-05-21    50000        Sales\n",
      "30     Alice       40  Female  user30@example.com    2021-05-21    80000        Admin\n",
      "31       Bob       25  Female  user31@example.com  July 4, 2020    50000        Admin\n",
      "32   Charlie       25    Male  user32@example.com    2021-05-21    80000    Marketing\n",
      "33     David       35       M  user33@example.com    22-06-2022    50000           HR\n",
      "34       Eva       35    Male  user34@example.com    22-06-2022      NaN    Marketing\n",
      "35     Frank      NaN       M  user35@example.com           NaN  unknown  Engineering\n",
      "36     Grace       30  Female  user36@example.com           NaN    80000  Engineering\n",
      "37    Hannah       40    Male  user37@example.com    2020/01/01      NaN        Admin\n",
      "38       Ivy       40     NaN  user38@example.com    2021-05-21    70000           HR\n",
      "39      Jack      NaN   Other  user39@example.com    2021-05-21    50000        Sales\n",
      "40     Alice      NaN       F  user40@example.com  July 4, 2020    50000  Engineering\n",
      "41       Bob      NaN       M  user41@example.com           NaN    80000        Admin\n",
      "42   Charlie      NaN     NaN  user42@example.com    22-06-2022    70000          NaN\n",
      "43     David      NaN       F  user43@example.com    2020/01/01    70000        Admin\n",
      "44       Eva       35       F  user44@example.com           NaN      NaN  Engineering\n",
      "45     Frank       40    Male  user45@example.com    22-06-2022      NaN  Engineering\n",
      "46     Grace      NaN       F  user46@example.com           NaN      NaN        Admin\n",
      "47    Hannah       40   Other  user47@example.com           NaN      NaN        Sales\n",
      "48       Ivy       25     NaN  user48@example.com  July 4, 2020      NaN    Marketing\n",
      "49      Jack       35       F  user49@example.com  July 4, 2020      NaN  Engineering\n",
      "50     Alice  unknown    Male  user50@example.com    2021-05-21      NaN        Admin\n",
      "51       Bob       35   Other  user51@example.com           NaN  unknown        Admin\n",
      "52   Charlie      NaN  Female  user52@example.com    2020/01/01    70000           HR\n",
      "53     David  unknown     NaN  user53@example.com           NaN      NaN    Marketing\n",
      "54       Eva       25       F  user54@example.com    22-06-2022    70000          NaN\n",
      "55     Frank      NaN    Male  user55@example.com           NaN    70000        Sales\n",
      "56     Grace       30  Female  user56@example.com           NaN    60000          NaN\n",
      "57    Hannah       40  Female  user57@example.com  July 4, 2020  unknown    Marketing\n",
      "58       Ivy       25       M  user58@example.com    2021-05-21      NaN    Marketing\n",
      "59      Jack       40   Other  user59@example.com    2021-05-21    50000    Marketing\n",
      "60     Alice      NaN       F  user60@example.com           NaN    80000          NaN\n",
      "61       Bob       30    Male  user61@example.com  July 4, 2020      NaN    Marketing\n",
      "62   Charlie       30       M  user62@example.com           NaN    50000        Admin\n",
      "63     David       25   Other  user63@example.com    2020/01/01  unknown          NaN\n",
      "64       Eva       30       M  user64@example.com  July 4, 2020    80000    Marketing\n",
      "65     Frank  unknown     NaN  user65@example.com           NaN  unknown        Admin\n",
      "66     Grace       30   Other  user66@example.com           NaN    70000           HR\n",
      "67    Hannah       40   Other  user67@example.com  July 4, 2020    80000    Marketing\n",
      "68       Ivy       40       F  user68@example.com           NaN    70000          NaN\n",
      "69      Jack      NaN   Other  user69@example.com  July 4, 2020    50000  Engineering\n",
      "70     Alice       40       M  user70@example.com    22-06-2022    50000    Marketing\n",
      "71       Bob      NaN   Other  user71@example.com  July 4, 2020    80000  Engineering\n",
      "72   Charlie       40       F  user72@example.com  July 4, 2020    80000        Admin\n",
      "73     David  unknown       F  user73@example.com           NaN      NaN           HR\n",
      "74       Eva      NaN     NaN  user74@example.com           NaN  unknown        Sales\n",
      "75     Frank       35       M  user75@example.com    2021-05-21      NaN           HR\n",
      "76     Grace      NaN  Female  user76@example.com    2021-05-21  unknown    Marketing\n",
      "77    Hannah       25  Female  user77@example.com    22-06-2022      NaN  Engineering\n",
      "78       Ivy       40   Other  user78@example.com    2021-05-21    70000  Engineering\n",
      "79      Jack       30     NaN  user79@example.com  July 4, 2020    80000          NaN\n",
      "80     Alice       40    Male  user80@example.com           NaN    50000  Engineering\n",
      "81       Bob       30   Other  user81@example.com    2021-05-21  unknown          NaN\n",
      "82   Charlie      NaN     NaN  user82@example.com    2021-05-21  unknown        Admin\n",
      "83     David      NaN       M  user83@example.com    22-06-2022    50000        Sales\n",
      "84       Eva      NaN       M  user84@example.com           NaN      NaN    Marketing\n",
      "85     Frank       30       M  user85@example.com    22-06-2022  unknown          NaN\n",
      "86     Grace       40       M  user86@example.com  July 4, 2020      NaN        Sales\n",
      "87    Hannah      NaN       M  user87@example.com           NaN    70000  Engineering\n",
      "88       Ivy  unknown     NaN  user88@example.com    22-06-2022    80000  Engineering\n",
      "89      Jack      NaN     NaN  user89@example.com    2021-05-21    50000        Sales\n",
      "90     Alice       30       F                   -           NaN    80000  Engineering\n",
      "91       Bob       30  Female                   -           NaN      NaN        Admin\n",
      "92   Charlie       40       M                   -    2021-05-21  unknown        Admin\n",
      "93     David       30    Male                   -    22-06-2022  unknown        Sales\n",
      "94       Eva       30     NaN                   -    2021-05-21      NaN          NaN\n",
      "95     Frank      NaN    Male                   -           NaN    50000          NaN\n",
      "96     Grace       40    Male                   -           NaN    70000        Sales\n",
      "97    Hannah      NaN    Male                   -    2020/01/01    60000          NaN\n",
      "98       Ivy      NaN       F                   -    2020/01/01    50000          NaN\n",
      "99      Jack      NaN     NaN                   -  July 4, 2020    60000        Admin\n",
      "100    Alice      NaN     NaN   user0@example.com    2021-05-21      NaN        Admin\n",
      "101      Bob       40       M   user1@example.com           NaN    50000  Engineering\n",
      "102  Charlie  unknown    Male   user2@example.com    2020/01/01    50000           HR\n",
      "103    David      NaN     NaN   user3@example.com    2021-05-21    70000        Admin\n",
      "104      Eva       35   Other   user4@example.com  July 4, 2020    70000  Engineering\n"
     ]
    }
   ],
   "source": [
    "print(ds.to_string())"
   ]
  },
  {
   "cell_type": "code",
   "execution_count": 26,
   "id": "739c18ed-1e99-4b14-89c9-b6da5dcfbca0",
   "metadata": {},
   "outputs": [],
   "source": [
    "#Handling Date column\n",
    "ds[\"Join_Date\"]=pd.to_datetime(ds[\"Join_Date\"],errors='coerce')"
   ]
  },
  {
   "cell_type": "code",
   "execution_count": 30,
   "id": "821d0cae-a9cd-4316-b09e-7193afb793e0",
   "metadata": {},
   "outputs": [
    {
     "name": "stdout",
     "output_type": "stream",
     "text": [
      "<class 'pandas.core.frame.DataFrame'>\n",
      "RangeIndex: 105 entries, 0 to 104\n",
      "Data columns (total 7 columns):\n",
      " #   Column      Non-Null Count  Dtype         \n",
      "---  ------      --------------  -----         \n",
      " 0   Name        105 non-null    object        \n",
      " 1   Age         105 non-null    float64       \n",
      " 2   Gender      89 non-null     object        \n",
      " 3   Email       105 non-null    object        \n",
      " 4   Join_Date   26 non-null     datetime64[ns]\n",
      " 5   Salary      78 non-null     object        \n",
      " 6   Department  89 non-null     object        \n",
      "dtypes: datetime64[ns](1), float64(1), object(5)\n",
      "memory usage: 5.9+ KB\n"
     ]
    }
   ],
   "source": [
    "ds.info()"
   ]
  },
  {
   "cell_type": "code",
   "execution_count": 31,
   "id": "086746e3-024a-47c7-aa79-16343cf6dd29",
   "metadata": {},
   "outputs": [],
   "source": [
    "#Handling salary coloumn\n",
    "ds[\"Salary\"]=pd.to_numeric(ds[\"Salary\"],errors='coerce')"
   ]
  },
  {
   "cell_type": "code",
   "execution_count": 32,
   "id": "9d458e5f-5424-4b59-8e88-3847e52e29d3",
   "metadata": {},
   "outputs": [
    {
     "name": "stdout",
     "output_type": "stream",
     "text": [
      "<class 'pandas.core.frame.DataFrame'>\n",
      "RangeIndex: 105 entries, 0 to 104\n",
      "Data columns (total 7 columns):\n",
      " #   Column      Non-Null Count  Dtype         \n",
      "---  ------      --------------  -----         \n",
      " 0   Name        105 non-null    object        \n",
      " 1   Age         105 non-null    float64       \n",
      " 2   Gender      89 non-null     object        \n",
      " 3   Email       105 non-null    object        \n",
      " 4   Join_Date   26 non-null     datetime64[ns]\n",
      " 5   Salary      64 non-null     float64       \n",
      " 6   Department  89 non-null     object        \n",
      "dtypes: datetime64[ns](1), float64(2), object(4)\n",
      "memory usage: 5.9+ KB\n"
     ]
    }
   ],
   "source": [
    "ds.info()"
   ]
  },
  {
   "cell_type": "code",
   "execution_count": 33,
   "id": "ac6431a5-83ec-4b9a-a431-caca551df3ee",
   "metadata": {},
   "outputs": [
    {
     "data": {
      "text/plain": [
       "array(['Admin', 'Engineering', 'HR', 'Sales', nan, 'Marketing'],\n",
       "      dtype=object)"
      ]
     },
     "execution_count": 33,
     "metadata": {},
     "output_type": "execute_result"
    }
   ],
   "source": [
    "#Handling department column\n",
    "ds[\"Department\"].unique()"
   ]
  },
  {
   "cell_type": "code",
   "execution_count": 35,
   "id": "e9966cd4-a893-4555-9507-84e154ad919a",
   "metadata": {},
   "outputs": [
    {
     "data": {
      "text/plain": [
       "'Engineering'"
      ]
     },
     "execution_count": 35,
     "metadata": {},
     "output_type": "execute_result"
    }
   ],
   "source": [
    "y=ds[\"Department\"].mode()[0]\n",
    "y"
   ]
  },
  {
   "cell_type": "code",
   "execution_count": 36,
   "id": "56939b9e-533e-4f74-a372-513ef4f4f95b",
   "metadata": {},
   "outputs": [
    {
     "name": "stderr",
     "output_type": "stream",
     "text": [
      "C:\\Users\\Siddhi\\AppData\\Local\\Temp\\ipykernel_15948\\1213118009.py:1: FutureWarning: A value is trying to be set on a copy of a DataFrame or Series through chained assignment using an inplace method.\n",
      "The behavior will change in pandas 3.0. This inplace method will never work because the intermediate object on which we are setting values always behaves as a copy.\n",
      "\n",
      "For example, when doing 'df[col].method(value, inplace=True)', try using 'df.method({col: value}, inplace=True)' or df[col] = df[col].method(value) instead, to perform the operation inplace on the original object.\n",
      "\n",
      "\n",
      "  ds[\"Department\"].fillna(y,inplace=True)\n"
     ]
    }
   ],
   "source": [
    "ds[\"Department\"].fillna(y,inplace=True)"
   ]
  },
  {
   "cell_type": "code",
   "execution_count": 38,
   "id": "5472dc6a-603e-4a02-a9d1-b7ca320082b0",
   "metadata": {},
   "outputs": [
    {
     "data": {
      "text/plain": [
       "array(['Admin', 'Engineering', 'HR', 'Sales', 'Marketing'], dtype=object)"
      ]
     },
     "execution_count": 38,
     "metadata": {},
     "output_type": "execute_result"
    }
   ],
   "source": [
    "ds[\"Department\"].unique()"
   ]
  },
  {
   "cell_type": "code",
   "execution_count": 43,
   "id": "1d133c26-5359-4865-9ee5-e0f7bdefd3e2",
   "metadata": {},
   "outputs": [
    {
     "name": "stdout",
     "output_type": "stream",
     "text": [
      "        Name   Age  Gender               Email  Join_Date   Salary   Department\n",
      "0      Alice  35.0     NaN   user0@example.com 2021-05-21      NaN        Admin\n",
      "1        Bob  40.0       M   user1@example.com        NaT  50000.0  Engineering\n",
      "2    Charlie  35.0    Male   user2@example.com        NaT  50000.0           HR\n",
      "3      David  35.0     NaN   user3@example.com 2021-05-21  70000.0        Admin\n",
      "4        Eva  35.0   Other   user4@example.com        NaT  70000.0  Engineering\n",
      "5      Frank  35.0   Other   user5@example.com        NaT  70000.0        Admin\n",
      "6      Grace  35.0  Female   user6@example.com        NaT  80000.0  Engineering\n",
      "7     Hannah  35.0   Other   user7@example.com 2021-05-21      NaN           HR\n",
      "8        Ivy  30.0  Female   user8@example.com        NaT  50000.0  Engineering\n",
      "9       Jack  35.0    Male   user9@example.com        NaT  80000.0  Engineering\n",
      "10     Alice  35.0       M  user10@example.com 2021-05-21  70000.0  Engineering\n",
      "11       Bob  35.0       M  user11@example.com        NaT  50000.0        Sales\n",
      "12   Charlie  35.0       M  user12@example.com        NaT  80000.0        Sales\n",
      "13     David  35.0   Other  user13@example.com        NaT      NaN        Sales\n",
      "14       Eva  40.0    Male  user14@example.com        NaT  80000.0           HR\n",
      "15     Frank  35.0   Other  user15@example.com        NaT      NaN        Admin\n",
      "16     Grace  35.0   Other  user16@example.com 2021-05-21  70000.0  Engineering\n",
      "17    Hannah  35.0    Male  user17@example.com        NaT      NaN  Engineering\n",
      "18       Ivy  30.0    Male  user18@example.com 2021-05-21  50000.0  Engineering\n",
      "19      Jack  40.0    Male  user19@example.com        NaT  70000.0           HR\n",
      "20     Alice  35.0    Male  user20@example.com 2021-05-21  50000.0  Engineering\n",
      "21       Bob  35.0       M  user21@example.com        NaT      NaN        Sales\n",
      "22   Charlie  30.0       F  user22@example.com        NaT  60000.0  Engineering\n",
      "23     David  40.0       F  user23@example.com        NaT      NaN    Marketing\n",
      "24       Eva  35.0    Male  user24@example.com        NaT  60000.0  Engineering\n",
      "25     Frank  25.0       F  user25@example.com        NaT  60000.0        Sales\n",
      "26     Grace  40.0       F  user26@example.com        NaT      NaN    Marketing\n",
      "27    Hannah  30.0    Male  user27@example.com 2021-05-21  70000.0  Engineering\n",
      "28       Ivy  35.0       F  user28@example.com        NaT      NaN    Marketing\n",
      "29      Jack  35.0   Other  user29@example.com 2021-05-21  50000.0        Sales\n",
      "30     Alice  40.0  Female  user30@example.com 2021-05-21  80000.0        Admin\n",
      "31       Bob  25.0  Female  user31@example.com        NaT  50000.0        Admin\n",
      "32   Charlie  25.0    Male  user32@example.com 2021-05-21  80000.0    Marketing\n",
      "33     David  35.0       M  user33@example.com        NaT  50000.0           HR\n",
      "34       Eva  35.0    Male  user34@example.com        NaT      NaN    Marketing\n",
      "35     Frank  35.0       M  user35@example.com        NaT      NaN  Engineering\n",
      "36     Grace  30.0  Female  user36@example.com        NaT  80000.0  Engineering\n",
      "37    Hannah  40.0    Male  user37@example.com        NaT      NaN        Admin\n",
      "38       Ivy  40.0     NaN  user38@example.com 2021-05-21  70000.0           HR\n",
      "39      Jack  35.0   Other  user39@example.com 2021-05-21  50000.0        Sales\n",
      "40     Alice  35.0       F  user40@example.com        NaT  50000.0  Engineering\n",
      "41       Bob  35.0       M  user41@example.com        NaT  80000.0        Admin\n",
      "42   Charlie  35.0     NaN  user42@example.com        NaT  70000.0  Engineering\n",
      "43     David  35.0       F  user43@example.com        NaT  70000.0        Admin\n",
      "44       Eva  35.0       F  user44@example.com        NaT      NaN  Engineering\n",
      "45     Frank  40.0    Male  user45@example.com        NaT      NaN  Engineering\n",
      "46     Grace  35.0       F  user46@example.com        NaT      NaN        Admin\n",
      "47    Hannah  40.0   Other  user47@example.com        NaT      NaN        Sales\n",
      "48       Ivy  25.0     NaN  user48@example.com        NaT      NaN    Marketing\n",
      "49      Jack  35.0       F  user49@example.com        NaT      NaN  Engineering\n",
      "50     Alice  35.0    Male  user50@example.com 2021-05-21      NaN        Admin\n",
      "51       Bob  35.0   Other  user51@example.com        NaT      NaN        Admin\n",
      "52   Charlie  35.0  Female  user52@example.com        NaT  70000.0           HR\n",
      "53     David  35.0     NaN  user53@example.com        NaT      NaN    Marketing\n",
      "54       Eva  25.0       F  user54@example.com        NaT  70000.0  Engineering\n",
      "55     Frank  35.0    Male  user55@example.com        NaT  70000.0        Sales\n",
      "56     Grace  30.0  Female  user56@example.com        NaT  60000.0  Engineering\n",
      "57    Hannah  40.0  Female  user57@example.com        NaT      NaN    Marketing\n",
      "58       Ivy  25.0       M  user58@example.com 2021-05-21      NaN    Marketing\n",
      "59      Jack  40.0   Other  user59@example.com 2021-05-21  50000.0    Marketing\n",
      "60     Alice  35.0       F  user60@example.com        NaT  80000.0  Engineering\n",
      "61       Bob  30.0    Male  user61@example.com        NaT      NaN    Marketing\n",
      "62   Charlie  30.0       M  user62@example.com        NaT  50000.0        Admin\n",
      "63     David  25.0   Other  user63@example.com        NaT      NaN  Engineering\n",
      "64       Eva  30.0       M  user64@example.com        NaT  80000.0    Marketing\n",
      "65     Frank  35.0     NaN  user65@example.com        NaT      NaN        Admin\n",
      "66     Grace  30.0   Other  user66@example.com        NaT  70000.0           HR\n",
      "67    Hannah  40.0   Other  user67@example.com        NaT  80000.0    Marketing\n",
      "68       Ivy  40.0       F  user68@example.com        NaT  70000.0  Engineering\n",
      "69      Jack  35.0   Other  user69@example.com        NaT  50000.0  Engineering\n",
      "70     Alice  40.0       M  user70@example.com        NaT  50000.0    Marketing\n",
      "71       Bob  35.0   Other  user71@example.com        NaT  80000.0  Engineering\n",
      "72   Charlie  40.0       F  user72@example.com        NaT  80000.0        Admin\n",
      "73     David  35.0       F  user73@example.com        NaT      NaN           HR\n",
      "74       Eva  35.0     NaN  user74@example.com        NaT      NaN        Sales\n",
      "75     Frank  35.0       M  user75@example.com 2021-05-21      NaN           HR\n",
      "76     Grace  35.0  Female  user76@example.com 2021-05-21      NaN    Marketing\n",
      "77    Hannah  25.0  Female  user77@example.com        NaT      NaN  Engineering\n",
      "78       Ivy  40.0   Other  user78@example.com 2021-05-21  70000.0  Engineering\n",
      "79      Jack  30.0     NaN  user79@example.com        NaT  80000.0  Engineering\n",
      "80     Alice  40.0    Male  user80@example.com        NaT  50000.0  Engineering\n",
      "81       Bob  30.0   Other  user81@example.com 2021-05-21      NaN  Engineering\n",
      "82   Charlie  35.0     NaN  user82@example.com 2021-05-21      NaN        Admin\n",
      "83     David  35.0       M  user83@example.com        NaT  50000.0        Sales\n",
      "84       Eva  35.0       M  user84@example.com        NaT      NaN    Marketing\n",
      "85     Frank  30.0       M  user85@example.com        NaT      NaN  Engineering\n",
      "86     Grace  40.0       M  user86@example.com        NaT      NaN        Sales\n",
      "87    Hannah  35.0       M  user87@example.com        NaT  70000.0  Engineering\n",
      "88       Ivy  35.0     NaN  user88@example.com        NaT  80000.0  Engineering\n",
      "89      Jack  35.0     NaN  user89@example.com 2021-05-21  50000.0        Sales\n",
      "90     Alice  30.0       F                   -        NaT  80000.0  Engineering\n",
      "91       Bob  30.0  Female                   -        NaT      NaN        Admin\n",
      "92   Charlie  40.0       M                   - 2021-05-21      NaN        Admin\n",
      "93     David  30.0    Male                   -        NaT      NaN        Sales\n",
      "94       Eva  30.0     NaN                   - 2021-05-21      NaN  Engineering\n",
      "95     Frank  35.0    Male                   -        NaT  50000.0  Engineering\n",
      "96     Grace  40.0    Male                   -        NaT  70000.0        Sales\n",
      "97    Hannah  35.0    Male                   -        NaT  60000.0  Engineering\n",
      "98       Ivy  35.0       F                   -        NaT  50000.0  Engineering\n",
      "99      Jack  35.0     NaN                   -        NaT  60000.0        Admin\n",
      "100    Alice  35.0     NaN   user0@example.com 2021-05-21      NaN        Admin\n",
      "101      Bob  40.0       M   user1@example.com        NaT  50000.0  Engineering\n",
      "102  Charlie  35.0    Male   user2@example.com        NaT  50000.0           HR\n",
      "103    David  35.0     NaN   user3@example.com 2021-05-21  70000.0        Admin\n",
      "104      Eva  35.0   Other   user4@example.com        NaT  70000.0  Engineering\n"
     ]
    }
   ],
   "source": [
    "#Make the clean data file\n",
    "ds.to_csv(\"Cleaned_data\")\n",
    "print(ds.to_string())"
   ]
  },
  {
   "cell_type": "code",
   "execution_count": null,
   "id": "7ad7dc59-3d9f-4aea-8346-89106e6a4cf5",
   "metadata": {},
   "outputs": [],
   "source": []
  }
 ],
 "metadata": {
  "kernelspec": {
   "display_name": "Python [conda env:base] *",
   "language": "python",
   "name": "conda-base-py"
  },
  "language_info": {
   "codemirror_mode": {
    "name": "ipython",
    "version": 3
   },
   "file_extension": ".py",
   "mimetype": "text/x-python",
   "name": "python",
   "nbconvert_exporter": "python",
   "pygments_lexer": "ipython3",
   "version": "3.12.7"
  }
 },
 "nbformat": 4,
 "nbformat_minor": 5
}
